{
 "cells": [
  {
   "attachments": {},
   "cell_type": "markdown",
   "metadata": {},
   "source": [
    "# Assignment 2 - Text classification benchmarks\n",
    "\n",
    "This assignment is about using ```scikit-learn``` to train simple (binary) classification models on text data. For this assignment, we'll continue to use the *Fake News Dataset* that we've been working on in class.\n",
    "\n",
    "For this exercise, you should write **two different scripts**. One script should train a **logistic regression classifier** on the data; the second script should train a **neural network** on the same dataset. Both scripts should do the following:\n",
    "\n",
    "- Be executed from the **command line**\n",
    "- Save the **classification report** to the folder called ```out```\n",
    "- Save the **trained models** and **vectorizers** to the folder called ```models```\n",
    "\n",
    "## Optional\n",
    "create a **third script** *which vectorizes the data separately, and saves the new feature extracted dataset*.\n",
    "That way, you *only have to vectorize the data once* in total, instead of once per script.\n",
    "\n",
    "## Beware\n",
    "- Saving the classification report to a **text file** can be a little tricky. You will need to Google this part!\n",
    "\n",
    "## Additional comments\n",
    "\n",
    "Your code should include **functions** that you have written **wherever possible**. Try to break your code down into smaller self-contained parts, rather than having it as one long set of instructions.\n",
    "\n",
    "For this assignment, you are welcome to submit your code either as a Jupyter Notebook, or as ```.py``` script. If you do not know how to write ```.py``` scripts, don't worry - we're working towards that!\n",
    "\n",
    "## Help\n",
    "nb\n",
    "https://towardsdatascience.com/a-simple-guide-to-command-line-arguments-with-argparse-6824c30ab1c3\n",
    "https://realpython.com/courses/running-python-scripts/\n",
    "https://realpython.com/lessons/write-python-script/\n",
    "https://realpython.com/command-line-interfaces-python-argparse/\n",
    "https://swcarpentry.github.io/python-novice-inflammation/12-cmdline/index.html (edited) \n",
    "\n",
    "\n",
    "## Objective\n",
    "This assignment is designed to test that you can:\n",
    "\n",
    "1. Train simple benchmark machine learning classifiers on structured text data;\n",
    "2. Produce understandable outputs and trained models which can be reused;\n",
    "3. Save those results in a clear way which can be shared or used for future analysis\n",
    "\n",
    "\n"
   ]
  }
 ],
 "metadata": {
  "kernelspec": {
   "display_name": "Python 3",
   "language": "python",
   "name": "python3"
  },
  "language_info": {
   "name": "python",
   "version": "3.9.2 (default, Feb 28 2021, 17:03:44) \n[GCC 10.2.1 20210110]"
  },
  "orig_nbformat": 4,
  "vscode": {
   "interpreter": {
    "hash": "767d51c1340bd893661ea55ea3124f6de3c7a262a8b4abca0554b478b1e2ff90"
   }
  }
 },
 "nbformat": 4,
 "nbformat_minor": 2
}
